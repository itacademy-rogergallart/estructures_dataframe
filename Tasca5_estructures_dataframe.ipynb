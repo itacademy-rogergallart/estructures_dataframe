{
  "nbformat": 4,
  "nbformat_minor": 0,
  "metadata": {
    "colab": {
      "name": "Tasca5_estructures_dataframe.ipynb",
      "provenance": [],
      "authorship_tag": "ABX9TyPLf70juFfcK8LM/RJQ+2A6"
    },
    "kernelspec": {
      "name": "python3",
      "display_name": "Python 3"
    },
    "language_info": {
      "name": "python"
    }
  },
  "cells": [
    {
      "cell_type": "markdown",
      "metadata": {
        "id": "NT7j3AjzHNoK"
      },
      "source": [
        "# Tasca 5: Exploració de dades\n",
        "\n",
        "## Nivell 1\n",
        "\n",
        "### Exercici 1\n",
        "Descarrega el data set [Airlines Delay: Airline on-time statistics and delay causes](https://www.kaggle.com/giovamata/airlinedelaycauses) i carrega’l a un pandas Dataframe. Explora les dades que conté, i queda’t únicament amb les columnes que consideris rellevants."
      ]
    },
    {
      "cell_type": "markdown",
      "metadata": {
        "id": "bcfPLoTfHNiN"
      },
      "source": [
        "### Exercici 2\n",
        "Fes un informe complet del data set:\n",
        "\n",
        "- Resumeix estadísticament les columnes d’interès\n",
        "- Troba quantes dades faltants hi ha per columna\n",
        "- Crea columnes noves (velocitat mitjana del vol, si ha arribat tard o no...)\n",
        "- Taula de les aerolínies amb més endarreriments acumulats\n",
        "- Quins són els vols més llargs? I els més endarrerits?\n",
        "- Etc."
      ]
    },
    {
      "cell_type": "markdown",
      "metadata": {
        "id": "buMWfkzpHNex"
      },
      "source": [
        "### Exercici 3\n",
        "Exporta el data set net i amb les noves columnes a Excel."
      ]
    }
  ]
}